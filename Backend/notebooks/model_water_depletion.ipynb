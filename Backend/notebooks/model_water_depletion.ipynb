{
 "cells": [
  {
   "cell_type": "markdown",
   "id": "da963792",
   "metadata": {},
   "source": [
    "## Estimating Future Water Usage\n",
    "\n",
    "This section estimates the future water usage based on historical data and predictive modeling."
   ]
  },
  {
   "cell_type": "code",
   "execution_count": null,
   "id": "329d8b7f",
   "metadata": {},
   "outputs": [],
   "source": [
    "from tensorflow.keras.models import Sequential\n",
    "from tensorflow.keras.layers import LSTM, Dense\n",
    "import numpy as np\n",
    "import pandas as pd\n",
    "\n",
    "def load_data_from_csv(\n",
    "    window_size: int,\n",
    "    csv_path: str = \"../assets/plant_watering_data.csv\",\n",
    "    add_watering_flag: bool = True\n",
    "    ):\n",
    "    data = pd.read_csv(csv_path, parse_dates=[\"time\", \"watered_at\"])\n",
    "    data = data.sort_values(\"time\")\n",
    "\n",
    "    data[\"watered\"] = data[\"pump_status\"].astype(int)\n",
    "\n",
    "    feature_cols = [\"tank_level\", \"well_level\"]\n",
    "    if add_watering_flag:\n",
    "    feature_cols.append(\"watered\")\n",
    "\n",
    "    features = data[feature_cols].values.astype(\"float32\")\n",
    "\n",
    "    mean = features.mean(axis=0)\n",
    "    std = features.std(axis=0)\n",
    "    features = (features - mean) / std\n",
    "\n",
    "    X, y = [], []\n",
    "    for i in range(len(features) - window_size):\n",
    "    X.append(features[i:i + window_size])\n",
    "    y.append(features[i + window_size, 0])\n",
    "\n",
    "    return np.asarray(X), np.asarray(y), mean, std\n"
   ]
  },
  {
   "cell_type": "code",
   "execution_count": null,
   "id": "46e2e3db",
   "metadata": {},
   "outputs": [],
   "source": [
    "window_size = 24\n",
    "X, y, mean, std = load_data_from_csv(window_size)\n",
    "\n",
    "# Build a sequential model using LSTM layers\n",
    "model = Sequential([\n",
    "    LSTM(64, input_shape=(window_size, X.shape[-1]), return_sequences=True),\n",
    "    LSTM(32),\n",
    "    Dense(1)\n",
    "])\n",
    "\n",
    "model.compile(optimizer=\"adam\", loss=\"mse\")\n",
    "# Train the model with 50 epochs and batch size of 32\n",
    "model.save(\"../models/water_model.h5\")"
   ]
  }
 ],
 "metadata": {
  "kernelspec": {
   "display_name": ".venv",
   "language": "python",
   "name": "python3"
  },
  "language_info": {
   "codemirror_mode": {
    "name": "ipython",
    "version": 3
   },
   "file_extension": ".py",
   "mimetype": "text/x-python",
   "name": "python",
   "nbconvert_exporter": "python",
   "pygments_lexer": "ipython3",
   "version": "3.12.3"
  }
 },
 "nbformat": 4,
 "nbformat_minor": 5
}
