{
 "cells": [
  {
   "cell_type": "code",
   "execution_count": null,
   "id": "be3c425e",
   "metadata": {},
   "outputs": [],
   "source": [
    "import numpy as np\n",
    "import pandas as pd\n",
    "from sqlalchemy import text\n",
    "from connect_postgres import connect_to_db\n",
    "\n",
    "from keras.models import Sequential\n",
    "from keras.layers import LSTM, Dense\n",
    "from data_loader import load_data_from_db"
   ]
  },
  {
   "cell_type": "markdown",
   "id": "20c6f77e",
   "metadata": {},
   "source": [
    "## Loading Postgres Data"
   ]
  },
  {
   "cell_type": "code",
   "execution_count": null,
   "id": "f1e62a9c",
   "metadata": {},
   "outputs": [],
   "source": [
    "def load_data_from_db(window_size):\n",
    "    conn = connect_to_db()\n",
    "    df = pd.read_sql(\n",
    "        text(\"SELECT timestamp, flow_rate, usage_last_hour FROM water_readings ORDER BY timestamp\"),\n",
    "        conn,\n",
    "        parse_dates=['timestamp']\n",
    "    )\n",
    "    conn.close()\n",
    "    values = df[['flow_rate','usage_last_hour']].to_numpy()\n",
    "    X = []\n",
    "    y = []\n",
    "    for i in range(len(values) - window_size):\n",
    "        X.append(values[i:i + window_size])\n",
    "        y.append(values[i + window_size, 1])\n",
    "    return np.array(X), np.array(y)"
   ]
  },
  {
   "cell_type": "markdown",
   "id": "da963792",
   "metadata": {},
   "source": [
    "## Estimating Future Water Usage"
   ]
  },
  {
   "cell_type": "code",
   "execution_count": null,
   "id": "329d8b7f",
   "metadata": {},
   "outputs": [],
   "source": [
    "window_size = 24\n",
    "X, y = load_data_from_db(window_size)\n",
    "\n",
    "model = Sequential([\n",
    "    LSTM(64, input_shape=(window_size,2), return_sequences=True),\n",
    "    LSTM(32),\n",
    "    Dense(1)\n",
    "])\n",
    "model.compile(optimizer='adam', loss='mse')\n",
    "model.fit(X, y, epochs=50, batch_size=32, validation_split=0.2)\n",
    "model.save('../models/water_model.h5')\n"
   ]
  }
 ],
 "metadata": {
  "language_info": {
   "name": "python"
  }
 },
 "nbformat": 4,
 "nbformat_minor": 5
}
